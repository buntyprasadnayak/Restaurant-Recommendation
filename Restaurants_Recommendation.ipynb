{
  "cells": [
    {
      "cell_type": "markdown",
      "metadata": {
        "id": "wh-sNNahyC2L"
      },
      "source": [
        "Main objective of this recommendation is to encourage the outdoor trends of dining and the sentiment towards particular cuisines,\n",
        "Ratings\n"
      ]
    },
    {
      "cell_type": "markdown",
      "metadata": {
        "id": "nZEAB4Q9dI6t"
      },
      "source": [
        "#Importing Libraries\n",
        "\n"
      ]
    },
    {
      "cell_type": "code",
      "execution_count": 46,
      "metadata": {
        "colab": {
          "base_uri": "https://localhost:8080/"
        },
        "id": "8gWP6pDPc7PJ",
        "outputId": "696839a8-d558-4ef1-c9ef-ca7a9bd8e923"
      },
      "outputs": [
        {
          "name": "stderr",
          "output_type": "stream",
          "text": [
            "[nltk_data] Downloading package stopwords to /Users/bunty/nltk_data...\n",
            "[nltk_data]   Package stopwords is already up-to-date!\n"
          ]
        }
      ],
      "source": [
        "import pandas as pd\n",
        "import numpy as np\n",
        "import matplotlib.pyplot as plt\n",
        "import seaborn as sns\n",
        "from warnings import filterwarnings\n",
        "filterwarnings('ignore')\n",
        "import re\n",
        "import nltk\n",
        "from nltk.corpus import stopwords\n",
        "nltk.download('stopwords')\n",
        "from nltk.stem import PorterStemmer\n",
        "\n",
        "from sklearn.metrics.pairwise import linear_kernel\n",
        "from sklearn.feature_extraction.text import CountVectorizer\n",
        "from sklearn.feature_extraction.text import TfidfVectorizer\n"
      ]
    },
    {
      "cell_type": "markdown",
      "metadata": {
        "id": "XfBGsZ5UdILd"
      },
      "source": []
    },
    {
      "cell_type": "code",
      "execution_count": 47,
      "metadata": {
        "id": "1ddXpLo8p3DU"
      },
      "outputs": [],
      "source": [
        "data_names = pd.read_csv('/Users/bunty/Code/MachineLearning/Restaurant_Recommendation/Restaurant names and Metadata.csv')\n",
        "data_review = pd.read_csv('/Users/bunty/Code/MachineLearning/Restaurant_Recommendation/Restaurant reviews.csv')"
      ]
    },
    {
      "cell_type": "code",
      "execution_count": 48,
      "metadata": {
        "colab": {
          "base_uri": "https://localhost:8080/",
          "height": 311
        },
        "id": "fcUEzeVR2WJx",
        "outputId": "5cabbb1c-8e93-4e3c-cb21-44bc25015260"
      },
      "outputs": [
        {
          "name": "stdout",
          "output_type": "stream",
          "text": [
            "(105, 6)\n"
          ]
        },
        {
          "data": {
            "text/html": [
              "<div>\n",
              "<style scoped>\n",
              "    .dataframe tbody tr th:only-of-type {\n",
              "        vertical-align: middle;\n",
              "    }\n",
              "\n",
              "    .dataframe tbody tr th {\n",
              "        vertical-align: top;\n",
              "    }\n",
              "\n",
              "    .dataframe thead th {\n",
              "        text-align: right;\n",
              "    }\n",
              "</style>\n",
              "<table border=\"1\" class=\"dataframe\">\n",
              "  <thead>\n",
              "    <tr style=\"text-align: right;\">\n",
              "      <th></th>\n",
              "      <th>Name</th>\n",
              "      <th>Links</th>\n",
              "      <th>Cost</th>\n",
              "      <th>Collections</th>\n",
              "      <th>Cuisines</th>\n",
              "      <th>Timings</th>\n",
              "    </tr>\n",
              "  </thead>\n",
              "  <tbody>\n",
              "    <tr>\n",
              "      <th>99</th>\n",
              "      <td>Chinese Pavilion</td>\n",
              "      <td>https://www.zomato.com/hyderabad/chinese-pavil...</td>\n",
              "      <td>1,000</td>\n",
              "      <td>NaN</td>\n",
              "      <td>Chinese, Seafood</td>\n",
              "      <td>12 Noon to 3:30 PM, 7 PM to 11 PM</td>\n",
              "    </tr>\n",
              "    <tr>\n",
              "      <th>97</th>\n",
              "      <td>Zega - Sheraton Hyderabad Hotel</td>\n",
              "      <td>https://www.zomato.com/hyderabad/zega-sheraton...</td>\n",
              "      <td>1,750</td>\n",
              "      <td>NaN</td>\n",
              "      <td>Asian, Sushi</td>\n",
              "      <td>12Noon to 2AM (Mon-Sun)</td>\n",
              "    </tr>\n",
              "    <tr>\n",
              "      <th>17</th>\n",
              "      <td>Hotel Zara Hi-Fi</td>\n",
              "      <td>https://www.zomato.com/hyderabad/hotel-zara-ga...</td>\n",
              "      <td>400</td>\n",
              "      <td>NaN</td>\n",
              "      <td>Chinese, North Indian</td>\n",
              "      <td>11:30 AM to 1 AM</td>\n",
              "    </tr>\n",
              "    <tr>\n",
              "      <th>81</th>\n",
              "      <td>Delhi-39</td>\n",
              "      <td>https://www.zomato.com/hyderabad/delhi-39-gach...</td>\n",
              "      <td>600</td>\n",
              "      <td>NaN</td>\n",
              "      <td>North Indian, Chinese</td>\n",
              "      <td>11am to 11pm (Mon-Sun)</td>\n",
              "    </tr>\n",
              "    <tr>\n",
              "      <th>88</th>\n",
              "      <td>Domino's Pizza</td>\n",
              "      <td>https://www.zomato.com/hyderabad/dominos-pizza...</td>\n",
              "      <td>400</td>\n",
              "      <td>NaN</td>\n",
              "      <td>Fast Food, Pizza</td>\n",
              "      <td>11 AM to 11 PM</td>\n",
              "    </tr>\n",
              "  </tbody>\n",
              "</table>\n",
              "</div>"
            ],
            "text/plain": [
              "                               Name  \\\n",
              "99                 Chinese Pavilion   \n",
              "97  Zega - Sheraton Hyderabad Hotel   \n",
              "17                 Hotel Zara Hi-Fi   \n",
              "81                         Delhi-39   \n",
              "88                   Domino's Pizza   \n",
              "\n",
              "                                                Links   Cost Collections  \\\n",
              "99  https://www.zomato.com/hyderabad/chinese-pavil...  1,000         NaN   \n",
              "97  https://www.zomato.com/hyderabad/zega-sheraton...  1,750         NaN   \n",
              "17  https://www.zomato.com/hyderabad/hotel-zara-ga...    400         NaN   \n",
              "81  https://www.zomato.com/hyderabad/delhi-39-gach...    600         NaN   \n",
              "88  https://www.zomato.com/hyderabad/dominos-pizza...    400         NaN   \n",
              "\n",
              "                 Cuisines                            Timings  \n",
              "99       Chinese, Seafood  12 Noon to 3:30 PM, 7 PM to 11 PM  \n",
              "97           Asian, Sushi            12Noon to 2AM (Mon-Sun)  \n",
              "17  Chinese, North Indian                   11:30 AM to 1 AM  \n",
              "81  North Indian, Chinese             11am to 11pm (Mon-Sun)  \n",
              "88       Fast Food, Pizza                     11 AM to 11 PM  "
            ]
          },
          "execution_count": 48,
          "metadata": {},
          "output_type": "execute_result"
        }
      ],
      "source": [
        "print(data_names.shape)\n",
        "data_names.sample(5)"
      ]
    },
    {
      "cell_type": "code",
      "execution_count": 49,
      "metadata": {
        "colab": {
          "base_uri": "https://localhost:8080/",
          "height": 224
        },
        "id": "AvWubhkk3_XP",
        "outputId": "ede67aa8-6843-477f-d708-cba9f0a0c282"
      },
      "outputs": [
        {
          "name": "stdout",
          "output_type": "stream",
          "text": [
            "(10000, 7)\n"
          ]
        },
        {
          "data": {
            "text/html": [
              "<div>\n",
              "<style scoped>\n",
              "    .dataframe tbody tr th:only-of-type {\n",
              "        vertical-align: middle;\n",
              "    }\n",
              "\n",
              "    .dataframe tbody tr th {\n",
              "        vertical-align: top;\n",
              "    }\n",
              "\n",
              "    .dataframe thead th {\n",
              "        text-align: right;\n",
              "    }\n",
              "</style>\n",
              "<table border=\"1\" class=\"dataframe\">\n",
              "  <thead>\n",
              "    <tr style=\"text-align: right;\">\n",
              "      <th></th>\n",
              "      <th>Restaurant</th>\n",
              "      <th>Reviewer</th>\n",
              "      <th>Review</th>\n",
              "      <th>Rating</th>\n",
              "      <th>Metadata</th>\n",
              "      <th>Time</th>\n",
              "      <th>Pictures</th>\n",
              "    </tr>\n",
              "  </thead>\n",
              "  <tbody>\n",
              "    <tr>\n",
              "      <th>8909</th>\n",
              "      <td>Mohammedia Shawarma</td>\n",
              "      <td>Tanveer Mansoori</td>\n",
              "      <td>This is my n-th experience ordering the Shawar...</td>\n",
              "      <td>5</td>\n",
              "      <td>1 Review</td>\n",
              "      <td>2/9/2019 0:00</td>\n",
              "      <td>0</td>\n",
              "    </tr>\n",
              "    <tr>\n",
              "      <th>1646</th>\n",
              "      <td>NorFest - The Dhaba</td>\n",
              "      <td>G. Sushmitha Reddy</td>\n",
              "      <td>They definitely promise you a decent meal.\\n\\n...</td>\n",
              "      <td>3</td>\n",
              "      <td>81 Reviews , 872 Followers</td>\n",
              "      <td>10/11/2018 15:10</td>\n",
              "      <td>4</td>\n",
              "    </tr>\n",
              "    <tr>\n",
              "      <th>4000</th>\n",
              "      <td>Frio Bistro</td>\n",
              "      <td>Oindrila Dutta</td>\n",
              "      <td>One of my favorite restaurants in the locality...</td>\n",
              "      <td>5</td>\n",
              "      <td>6 Reviews , 2 Followers</td>\n",
              "      <td>5/17/2019 20:01</td>\n",
              "      <td>0</td>\n",
              "    </tr>\n",
              "    <tr>\n",
              "      <th>3752</th>\n",
              "      <td>Kritunga Restaurant</td>\n",
              "      <td>Madhu Choppara</td>\n",
              "      <td>delivery good</td>\n",
              "      <td>5</td>\n",
              "      <td>2 Reviews</td>\n",
              "      <td>8/2/2018 21:01</td>\n",
              "      <td>0</td>\n",
              "    </tr>\n",
              "    <tr>\n",
              "      <th>1805</th>\n",
              "      <td>10 Downing Street</td>\n",
              "      <td>Rmandava70</td>\n",
              "      <td>Place is awesome so their craft beers. Liked B...</td>\n",
              "      <td>4</td>\n",
              "      <td>92 Reviews , 727 Followers</td>\n",
              "      <td>5/9/2019 18:56</td>\n",
              "      <td>4</td>\n",
              "    </tr>\n",
              "  </tbody>\n",
              "</table>\n",
              "</div>"
            ],
            "text/plain": [
              "               Restaurant            Reviewer  \\\n",
              "8909  Mohammedia Shawarma    Tanveer Mansoori   \n",
              "1646  NorFest - The Dhaba  G. Sushmitha Reddy   \n",
              "4000          Frio Bistro      Oindrila Dutta   \n",
              "3752  Kritunga Restaurant      Madhu Choppara   \n",
              "1805    10 Downing Street          Rmandava70   \n",
              "\n",
              "                                                 Review Rating  \\\n",
              "8909  This is my n-th experience ordering the Shawar...      5   \n",
              "1646  They definitely promise you a decent meal.\\n\\n...      3   \n",
              "4000  One of my favorite restaurants in the locality...      5   \n",
              "3752                                      delivery good      5   \n",
              "1805  Place is awesome so their craft beers. Liked B...      4   \n",
              "\n",
              "                        Metadata              Time  Pictures  \n",
              "8909                    1 Review     2/9/2019 0:00         0  \n",
              "1646  81 Reviews , 872 Followers  10/11/2018 15:10         4  \n",
              "4000     6 Reviews , 2 Followers   5/17/2019 20:01         0  \n",
              "3752                   2 Reviews    8/2/2018 21:01         0  \n",
              "1805  92 Reviews , 727 Followers    5/9/2019 18:56         4  "
            ]
          },
          "execution_count": 49,
          "metadata": {},
          "output_type": "execute_result"
        }
      ],
      "source": [
        "print(data_review.shape)\n",
        "data_review.sample(5)"
      ]
    },
    {
      "cell_type": "code",
      "execution_count": 50,
      "metadata": {
        "colab": {
          "base_uri": "https://localhost:8080/"
        },
        "id": "aJ5dEEm04WjR",
        "outputId": "acef370d-c8d9-48a5-8de4-cc34f3e3464d"
      },
      "outputs": [
        {
          "name": "stdout",
          "output_type": "stream",
          "text": [
            "<class 'pandas.core.frame.DataFrame'>\n",
            "RangeIndex: 105 entries, 0 to 104\n",
            "Data columns (total 6 columns):\n",
            " #   Column       Non-Null Count  Dtype \n",
            "---  ------       --------------  ----- \n",
            " 0   Name         105 non-null    object\n",
            " 1   Links        105 non-null    object\n",
            " 2   Cost         105 non-null    object\n",
            " 3   Collections  51 non-null     object\n",
            " 4   Cuisines     105 non-null    object\n",
            " 5   Timings      104 non-null    object\n",
            "dtypes: object(6)\n",
            "memory usage: 5.0+ KB\n"
          ]
        }
      ],
      "source": [
        "data_names.info()"
      ]
    },
    {
      "cell_type": "code",
      "execution_count": 51,
      "metadata": {
        "colab": {
          "base_uri": "https://localhost:8080/"
        },
        "id": "f4cMO_t54eAc",
        "outputId": "ae89b20b-c280-4f4d-9915-c438bfb403aa"
      },
      "outputs": [
        {
          "data": {
            "text/plain": [
              "Name           105\n",
              "Links          105\n",
              "Cost            29\n",
              "Collections     42\n",
              "Cuisines        92\n",
              "Timings         77\n",
              "dtype: int64"
            ]
          },
          "execution_count": 51,
          "metadata": {},
          "output_type": "execute_result"
        }
      ],
      "source": [
        "data_names.nunique()"
      ]
    },
    {
      "cell_type": "code",
      "execution_count": 52,
      "metadata": {
        "colab": {
          "base_uri": "https://localhost:8080/"
        },
        "id": "Db48gNbAWB5u",
        "outputId": "653030b5-ba8b-4299-ea99-80610c9730d2"
      },
      "outputs": [
        {
          "name": "stdout",
          "output_type": "stream",
          "text": [
            "<class 'pandas.core.frame.DataFrame'>\n",
            "RangeIndex: 10000 entries, 0 to 9999\n",
            "Data columns (total 7 columns):\n",
            " #   Column      Non-Null Count  Dtype \n",
            "---  ------      --------------  ----- \n",
            " 0   Restaurant  10000 non-null  object\n",
            " 1   Reviewer    9962 non-null   object\n",
            " 2   Review      9955 non-null   object\n",
            " 3   Rating      9962 non-null   object\n",
            " 4   Metadata    9962 non-null   object\n",
            " 5   Time        9962 non-null   object\n",
            " 6   Pictures    10000 non-null  int64 \n",
            "dtypes: int64(1), object(6)\n",
            "memory usage: 547.0+ KB\n"
          ]
        }
      ],
      "source": [
        "data_review.info()"
      ]
    },
    {
      "cell_type": "code",
      "execution_count": 53,
      "metadata": {
        "colab": {
          "base_uri": "https://localhost:8080/"
        },
        "id": "fZxmXc8qW7yq",
        "outputId": "07df7bef-18c3-4c94-c57f-d3263c041840"
      },
      "outputs": [
        {
          "data": {
            "text/plain": [
              "Restaurant     100\n",
              "Reviewer      7446\n",
              "Review        9364\n",
              "Rating          10\n",
              "Metadata      2477\n",
              "Time          9782\n",
              "Pictures        36\n",
              "dtype: int64"
            ]
          },
          "execution_count": 53,
          "metadata": {},
          "output_type": "execute_result"
        }
      ],
      "source": [
        "data_review.nunique()"
      ]
    },
    {
      "cell_type": "code",
      "execution_count": 54,
      "metadata": {
        "colab": {
          "base_uri": "https://localhost:8080/",
          "height": 206
        },
        "id": "aaWL49u0W-fL",
        "outputId": "ea9084d5-33c4-4f66-ca81-eb2179bfd0a7"
      },
      "outputs": [
        {
          "data": {
            "text/html": [
              "<div>\n",
              "<style scoped>\n",
              "    .dataframe tbody tr th:only-of-type {\n",
              "        vertical-align: middle;\n",
              "    }\n",
              "\n",
              "    .dataframe tbody tr th {\n",
              "        vertical-align: top;\n",
              "    }\n",
              "\n",
              "    .dataframe thead th {\n",
              "        text-align: right;\n",
              "    }\n",
              "</style>\n",
              "<table border=\"1\" class=\"dataframe\">\n",
              "  <thead>\n",
              "    <tr style=\"text-align: right;\">\n",
              "      <th></th>\n",
              "      <th>Name</th>\n",
              "      <th>Reviewer</th>\n",
              "      <th>Review</th>\n",
              "      <th>Rating</th>\n",
              "      <th>Metadata</th>\n",
              "      <th>Time</th>\n",
              "      <th>Pictures</th>\n",
              "    </tr>\n",
              "  </thead>\n",
              "  <tbody>\n",
              "    <tr>\n",
              "      <th>0</th>\n",
              "      <td>Beyond Flavours</td>\n",
              "      <td>Rusha Chakraborty</td>\n",
              "      <td>The ambience was good, food was quite good . h...</td>\n",
              "      <td>5</td>\n",
              "      <td>1 Review , 2 Followers</td>\n",
              "      <td>5/25/2019 15:54</td>\n",
              "      <td>0</td>\n",
              "    </tr>\n",
              "    <tr>\n",
              "      <th>1</th>\n",
              "      <td>Beyond Flavours</td>\n",
              "      <td>Anusha Tirumalaneedi</td>\n",
              "      <td>Ambience is too good for a pleasant evening. S...</td>\n",
              "      <td>5</td>\n",
              "      <td>3 Reviews , 2 Followers</td>\n",
              "      <td>5/25/2019 14:20</td>\n",
              "      <td>0</td>\n",
              "    </tr>\n",
              "    <tr>\n",
              "      <th>2</th>\n",
              "      <td>Beyond Flavours</td>\n",
              "      <td>Ashok Shekhawat</td>\n",
              "      <td>A must try.. great food great ambience. Thnx f...</td>\n",
              "      <td>5</td>\n",
              "      <td>2 Reviews , 3 Followers</td>\n",
              "      <td>5/24/2019 22:54</td>\n",
              "      <td>0</td>\n",
              "    </tr>\n",
              "    <tr>\n",
              "      <th>3</th>\n",
              "      <td>Beyond Flavours</td>\n",
              "      <td>Swapnil Sarkar</td>\n",
              "      <td>Soumen das and Arun was a great guy. Only beca...</td>\n",
              "      <td>5</td>\n",
              "      <td>1 Review , 1 Follower</td>\n",
              "      <td>5/24/2019 22:11</td>\n",
              "      <td>0</td>\n",
              "    </tr>\n",
              "    <tr>\n",
              "      <th>4</th>\n",
              "      <td>Beyond Flavours</td>\n",
              "      <td>Dileep</td>\n",
              "      <td>Food is good.we ordered Kodi drumsticks and ba...</td>\n",
              "      <td>5</td>\n",
              "      <td>3 Reviews , 2 Followers</td>\n",
              "      <td>5/24/2019 21:37</td>\n",
              "      <td>0</td>\n",
              "    </tr>\n",
              "  </tbody>\n",
              "</table>\n",
              "</div>"
            ],
            "text/plain": [
              "              Name              Reviewer  \\\n",
              "0  Beyond Flavours     Rusha Chakraborty   \n",
              "1  Beyond Flavours  Anusha Tirumalaneedi   \n",
              "2  Beyond Flavours       Ashok Shekhawat   \n",
              "3  Beyond Flavours        Swapnil Sarkar   \n",
              "4  Beyond Flavours                Dileep   \n",
              "\n",
              "                                              Review Rating  \\\n",
              "0  The ambience was good, food was quite good . h...      5   \n",
              "1  Ambience is too good for a pleasant evening. S...      5   \n",
              "2  A must try.. great food great ambience. Thnx f...      5   \n",
              "3  Soumen das and Arun was a great guy. Only beca...      5   \n",
              "4  Food is good.we ordered Kodi drumsticks and ba...      5   \n",
              "\n",
              "                  Metadata             Time  Pictures  \n",
              "0   1 Review , 2 Followers  5/25/2019 15:54         0  \n",
              "1  3 Reviews , 2 Followers  5/25/2019 14:20         0  \n",
              "2  2 Reviews , 3 Followers  5/24/2019 22:54         0  \n",
              "3    1 Review , 1 Follower  5/24/2019 22:11         0  \n",
              "4  3 Reviews , 2 Followers  5/24/2019 21:37         0  "
            ]
          },
          "execution_count": 54,
          "metadata": {},
          "output_type": "execute_result"
        }
      ],
      "source": [
        "# rename restaurant to name to merge into single dataset\n",
        "data_review = data_review.rename(columns={'Restaurant':'Name'})\n",
        "data_review.head()"
      ]
    },
    {
      "cell_type": "code",
      "execution_count": 55,
      "metadata": {
        "colab": {
          "base_uri": "https://localhost:8080/",
          "height": 369
        },
        "id": "8ZYPLwWaX43u",
        "outputId": "5f3f3945-57a7-4619-8f9a-d827b855f326"
      },
      "outputs": [
        {
          "data": {
            "text/html": [
              "<div>\n",
              "<style scoped>\n",
              "    .dataframe tbody tr th:only-of-type {\n",
              "        vertical-align: middle;\n",
              "    }\n",
              "\n",
              "    .dataframe tbody tr th {\n",
              "        vertical-align: top;\n",
              "    }\n",
              "\n",
              "    .dataframe thead th {\n",
              "        text-align: right;\n",
              "    }\n",
              "</style>\n",
              "<table border=\"1\" class=\"dataframe\">\n",
              "  <thead>\n",
              "    <tr style=\"text-align: right;\">\n",
              "      <th></th>\n",
              "      <th>Name</th>\n",
              "      <th>Links</th>\n",
              "      <th>Cost</th>\n",
              "      <th>Collections</th>\n",
              "      <th>Cuisines</th>\n",
              "      <th>Timings</th>\n",
              "      <th>Reviewer</th>\n",
              "      <th>Review</th>\n",
              "      <th>Rating</th>\n",
              "      <th>Metadata</th>\n",
              "      <th>Time</th>\n",
              "      <th>Pictures</th>\n",
              "    </tr>\n",
              "  </thead>\n",
              "  <tbody>\n",
              "    <tr>\n",
              "      <th>0</th>\n",
              "      <td>Beyond Flavours</td>\n",
              "      <td>https://www.zomato.com/hyderabad/beyond-flavou...</td>\n",
              "      <td>800</td>\n",
              "      <td>Food Hygiene Rated Restaurants in Hyderabad, C...</td>\n",
              "      <td>Chinese, Continental, Kebab, European, South I...</td>\n",
              "      <td>12noon to 3:30pm, 6:30pm to 11:30pm (Mon-Sun)</td>\n",
              "      <td>Rusha Chakraborty</td>\n",
              "      <td>The ambience was good, food was quite good . h...</td>\n",
              "      <td>5</td>\n",
              "      <td>1 Review , 2 Followers</td>\n",
              "      <td>5/25/2019 15:54</td>\n",
              "      <td>0.0</td>\n",
              "    </tr>\n",
              "    <tr>\n",
              "      <th>1</th>\n",
              "      <td>Beyond Flavours</td>\n",
              "      <td>https://www.zomato.com/hyderabad/beyond-flavou...</td>\n",
              "      <td>800</td>\n",
              "      <td>Food Hygiene Rated Restaurants in Hyderabad, C...</td>\n",
              "      <td>Chinese, Continental, Kebab, European, South I...</td>\n",
              "      <td>12noon to 3:30pm, 6:30pm to 11:30pm (Mon-Sun)</td>\n",
              "      <td>Anusha Tirumalaneedi</td>\n",
              "      <td>Ambience is too good for a pleasant evening. S...</td>\n",
              "      <td>5</td>\n",
              "      <td>3 Reviews , 2 Followers</td>\n",
              "      <td>5/25/2019 14:20</td>\n",
              "      <td>0.0</td>\n",
              "    </tr>\n",
              "    <tr>\n",
              "      <th>2</th>\n",
              "      <td>Beyond Flavours</td>\n",
              "      <td>https://www.zomato.com/hyderabad/beyond-flavou...</td>\n",
              "      <td>800</td>\n",
              "      <td>Food Hygiene Rated Restaurants in Hyderabad, C...</td>\n",
              "      <td>Chinese, Continental, Kebab, European, South I...</td>\n",
              "      <td>12noon to 3:30pm, 6:30pm to 11:30pm (Mon-Sun)</td>\n",
              "      <td>Ashok Shekhawat</td>\n",
              "      <td>A must try.. great food great ambience. Thnx f...</td>\n",
              "      <td>5</td>\n",
              "      <td>2 Reviews , 3 Followers</td>\n",
              "      <td>5/24/2019 22:54</td>\n",
              "      <td>0.0</td>\n",
              "    </tr>\n",
              "  </tbody>\n",
              "</table>\n",
              "</div>"
            ],
            "text/plain": [
              "              Name                                              Links Cost  \\\n",
              "0  Beyond Flavours  https://www.zomato.com/hyderabad/beyond-flavou...  800   \n",
              "1  Beyond Flavours  https://www.zomato.com/hyderabad/beyond-flavou...  800   \n",
              "2  Beyond Flavours  https://www.zomato.com/hyderabad/beyond-flavou...  800   \n",
              "\n",
              "                                         Collections  \\\n",
              "0  Food Hygiene Rated Restaurants in Hyderabad, C...   \n",
              "1  Food Hygiene Rated Restaurants in Hyderabad, C...   \n",
              "2  Food Hygiene Rated Restaurants in Hyderabad, C...   \n",
              "\n",
              "                                            Cuisines  \\\n",
              "0  Chinese, Continental, Kebab, European, South I...   \n",
              "1  Chinese, Continental, Kebab, European, South I...   \n",
              "2  Chinese, Continental, Kebab, European, South I...   \n",
              "\n",
              "                                         Timings              Reviewer  \\\n",
              "0  12noon to 3:30pm, 6:30pm to 11:30pm (Mon-Sun)     Rusha Chakraborty   \n",
              "1  12noon to 3:30pm, 6:30pm to 11:30pm (Mon-Sun)  Anusha Tirumalaneedi   \n",
              "2  12noon to 3:30pm, 6:30pm to 11:30pm (Mon-Sun)       Ashok Shekhawat   \n",
              "\n",
              "                                              Review Rating  \\\n",
              "0  The ambience was good, food was quite good . h...      5   \n",
              "1  Ambience is too good for a pleasant evening. S...      5   \n",
              "2  A must try.. great food great ambience. Thnx f...      5   \n",
              "\n",
              "                  Metadata             Time  Pictures  \n",
              "0   1 Review , 2 Followers  5/25/2019 15:54       0.0  \n",
              "1  3 Reviews , 2 Followers  5/25/2019 14:20       0.0  \n",
              "2  2 Reviews , 3 Followers  5/24/2019 22:54       0.0  "
            ]
          },
          "execution_count": 55,
          "metadata": {},
          "output_type": "execute_result"
        }
      ],
      "source": [
        "# merging two dataset\n",
        "df = pd.merge(data_names, data_review, how='left', on ='Name')\n",
        "df.head(3)\n",
        "# df.to_csv(\"Merge.csv\")"
      ]
    },
    {
      "cell_type": "markdown",
      "metadata": {},
      "source": [
        "Data Processing with Merge data "
      ]
    },
    {
      "cell_type": "code",
      "execution_count": 56,
      "metadata": {},
      "outputs": [],
      "source": [
        "merge_df = pd.read_csv('/Users/bunty/Code/MachineLearning/Restaurant_Recommendation/Merge_data.csv')"
      ]
    },
    {
      "cell_type": "code",
      "execution_count": 76,
      "metadata": {},
      "outputs": [
        {
          "data": {
            "text/html": [
              "<div>\n",
              "<style scoped>\n",
              "    .dataframe tbody tr th:only-of-type {\n",
              "        vertical-align: middle;\n",
              "    }\n",
              "\n",
              "    .dataframe tbody tr th {\n",
              "        vertical-align: top;\n",
              "    }\n",
              "\n",
              "    .dataframe thead th {\n",
              "        text-align: right;\n",
              "    }\n",
              "</style>\n",
              "<table border=\"1\" class=\"dataframe\">\n",
              "  <thead>\n",
              "    <tr style=\"text-align: right;\">\n",
              "      <th></th>\n",
              "      <th>Unnamed: 0</th>\n",
              "      <th>Name</th>\n",
              "      <th>Links</th>\n",
              "      <th>Cost</th>\n",
              "      <th>Collections</th>\n",
              "      <th>Cuisines</th>\n",
              "      <th>Timings</th>\n",
              "      <th>Reviewer</th>\n",
              "      <th>Review</th>\n",
              "      <th>Rating</th>\n",
              "      <th>Metadata</th>\n",
              "      <th>Time</th>\n",
              "      <th>Pictures</th>\n",
              "    </tr>\n",
              "  </thead>\n",
              "  <tbody>\n",
              "    <tr>\n",
              "      <th>0</th>\n",
              "      <td>0</td>\n",
              "      <td>Beyond Flavours</td>\n",
              "      <td>https://www.zomato.com/hyderabad/beyond-flavou...</td>\n",
              "      <td>800</td>\n",
              "      <td>Food Hygiene Rated Restaurants in Hyderabad, C...</td>\n",
              "      <td>Chinese, Continental, Kebab, European, South I...</td>\n",
              "      <td>12noon to 3:30pm, 6:30pm to 11:30pm (Mon-Sun)</td>\n",
              "      <td>Rusha Chakraborty</td>\n",
              "      <td>The ambience was good, food was quite good . h...</td>\n",
              "      <td>5</td>\n",
              "      <td>1 Review , 2 Followers</td>\n",
              "      <td>5/25/2019 15:54</td>\n",
              "      <td>0.0</td>\n",
              "    </tr>\n",
              "    <tr>\n",
              "      <th>1</th>\n",
              "      <td>1</td>\n",
              "      <td>Beyond Flavours</td>\n",
              "      <td>https://www.zomato.com/hyderabad/beyond-flavou...</td>\n",
              "      <td>800</td>\n",
              "      <td>Food Hygiene Rated Restaurants in Hyderabad, C...</td>\n",
              "      <td>Chinese, Continental, Kebab, European, South I...</td>\n",
              "      <td>12noon to 3:30pm, 6:30pm to 11:30pm (Mon-Sun)</td>\n",
              "      <td>Anusha Tirumalaneedi</td>\n",
              "      <td>Ambience is too good for a pleasant evening. S...</td>\n",
              "      <td>5</td>\n",
              "      <td>3 Reviews , 2 Followers</td>\n",
              "      <td>5/25/2019 14:20</td>\n",
              "      <td>0.0</td>\n",
              "    </tr>\n",
              "    <tr>\n",
              "      <th>2</th>\n",
              "      <td>2</td>\n",
              "      <td>Beyond Flavours</td>\n",
              "      <td>https://www.zomato.com/hyderabad/beyond-flavou...</td>\n",
              "      <td>800</td>\n",
              "      <td>Food Hygiene Rated Restaurants in Hyderabad, C...</td>\n",
              "      <td>Chinese, Continental, Kebab, European, South I...</td>\n",
              "      <td>12noon to 3:30pm, 6:30pm to 11:30pm (Mon-Sun)</td>\n",
              "      <td>Ashok Shekhawat</td>\n",
              "      <td>A must try.. great food great ambience. Thnx f...</td>\n",
              "      <td>5</td>\n",
              "      <td>2 Reviews , 3 Followers</td>\n",
              "      <td>5/24/2019 22:54</td>\n",
              "      <td>0.0</td>\n",
              "    </tr>\n",
              "    <tr>\n",
              "      <th>3</th>\n",
              "      <td>3</td>\n",
              "      <td>Beyond Flavours</td>\n",
              "      <td>https://www.zomato.com/hyderabad/beyond-flavou...</td>\n",
              "      <td>800</td>\n",
              "      <td>Food Hygiene Rated Restaurants in Hyderabad, C...</td>\n",
              "      <td>Chinese, Continental, Kebab, European, South I...</td>\n",
              "      <td>12noon to 3:30pm, 6:30pm to 11:30pm (Mon-Sun)</td>\n",
              "      <td>Swapnil Sarkar</td>\n",
              "      <td>Soumen das and Arun was a great guy. Only beca...</td>\n",
              "      <td>5</td>\n",
              "      <td>1 Review , 1 Follower</td>\n",
              "      <td>5/24/2019 22:11</td>\n",
              "      <td>0.0</td>\n",
              "    </tr>\n",
              "    <tr>\n",
              "      <th>4</th>\n",
              "      <td>4</td>\n",
              "      <td>Beyond Flavours</td>\n",
              "      <td>https://www.zomato.com/hyderabad/beyond-flavou...</td>\n",
              "      <td>800</td>\n",
              "      <td>Food Hygiene Rated Restaurants in Hyderabad, C...</td>\n",
              "      <td>Chinese, Continental, Kebab, European, South I...</td>\n",
              "      <td>12noon to 3:30pm, 6:30pm to 11:30pm (Mon-Sun)</td>\n",
              "      <td>Dileep</td>\n",
              "      <td>Food is good.we ordered Kodi drumsticks and ba...</td>\n",
              "      <td>5</td>\n",
              "      <td>3 Reviews , 2 Followers</td>\n",
              "      <td>5/24/2019 21:37</td>\n",
              "      <td>0.0</td>\n",
              "    </tr>\n",
              "  </tbody>\n",
              "</table>\n",
              "</div>"
            ],
            "text/plain": [
              "   Unnamed: 0             Name  \\\n",
              "0           0  Beyond Flavours   \n",
              "1           1  Beyond Flavours   \n",
              "2           2  Beyond Flavours   \n",
              "3           3  Beyond Flavours   \n",
              "4           4  Beyond Flavours   \n",
              "\n",
              "                                               Links Cost  \\\n",
              "0  https://www.zomato.com/hyderabad/beyond-flavou...  800   \n",
              "1  https://www.zomato.com/hyderabad/beyond-flavou...  800   \n",
              "2  https://www.zomato.com/hyderabad/beyond-flavou...  800   \n",
              "3  https://www.zomato.com/hyderabad/beyond-flavou...  800   \n",
              "4  https://www.zomato.com/hyderabad/beyond-flavou...  800   \n",
              "\n",
              "                                         Collections  \\\n",
              "0  Food Hygiene Rated Restaurants in Hyderabad, C...   \n",
              "1  Food Hygiene Rated Restaurants in Hyderabad, C...   \n",
              "2  Food Hygiene Rated Restaurants in Hyderabad, C...   \n",
              "3  Food Hygiene Rated Restaurants in Hyderabad, C...   \n",
              "4  Food Hygiene Rated Restaurants in Hyderabad, C...   \n",
              "\n",
              "                                            Cuisines  \\\n",
              "0  Chinese, Continental, Kebab, European, South I...   \n",
              "1  Chinese, Continental, Kebab, European, South I...   \n",
              "2  Chinese, Continental, Kebab, European, South I...   \n",
              "3  Chinese, Continental, Kebab, European, South I...   \n",
              "4  Chinese, Continental, Kebab, European, South I...   \n",
              "\n",
              "                                         Timings              Reviewer  \\\n",
              "0  12noon to 3:30pm, 6:30pm to 11:30pm (Mon-Sun)     Rusha Chakraborty   \n",
              "1  12noon to 3:30pm, 6:30pm to 11:30pm (Mon-Sun)  Anusha Tirumalaneedi   \n",
              "2  12noon to 3:30pm, 6:30pm to 11:30pm (Mon-Sun)       Ashok Shekhawat   \n",
              "3  12noon to 3:30pm, 6:30pm to 11:30pm (Mon-Sun)        Swapnil Sarkar   \n",
              "4  12noon to 3:30pm, 6:30pm to 11:30pm (Mon-Sun)                Dileep   \n",
              "\n",
              "                                              Review Rating  \\\n",
              "0  The ambience was good, food was quite good . h...      5   \n",
              "1  Ambience is too good for a pleasant evening. S...      5   \n",
              "2  A must try.. great food great ambience. Thnx f...      5   \n",
              "3  Soumen das and Arun was a great guy. Only beca...      5   \n",
              "4  Food is good.we ordered Kodi drumsticks and ba...      5   \n",
              "\n",
              "                  Metadata             Time  Pictures  \n",
              "0   1 Review , 2 Followers  5/25/2019 15:54       0.0  \n",
              "1  3 Reviews , 2 Followers  5/25/2019 14:20       0.0  \n",
              "2  2 Reviews , 3 Followers  5/24/2019 22:54       0.0  \n",
              "3    1 Review , 1 Follower  5/24/2019 22:11       0.0  \n",
              "4  3 Reviews , 2 Followers  5/24/2019 21:37       0.0  "
            ]
          },
          "execution_count": 76,
          "metadata": {},
          "output_type": "execute_result"
        }
      ],
      "source": [
        "merge_df.head(5)"
      ]
    },
    {
      "cell_type": "code",
      "execution_count": 80,
      "metadata": {},
      "outputs": [
        {
          "name": "stdout",
          "output_type": "stream",
          "text": [
            "                                            Cuisines Rating Cost  \\\n",
            "0  Chinese, Continental, Kebab, European, South I...      5  800   \n",
            "1  Chinese, Continental, Kebab, European, South I...      5  800   \n",
            "2  Chinese, Continental, Kebab, European, South I...      5  800   \n",
            "3  Chinese, Continental, Kebab, European, South I...      5  800   \n",
            "4  Chinese, Continental, Kebab, European, South I...      5  800   \n",
            "\n",
            "                                         Timings  \n",
            "0  12noon to 3:30pm, 6:30pm to 11:30pm (Mon-Sun)  \n",
            "1  12noon to 3:30pm, 6:30pm to 11:30pm (Mon-Sun)  \n",
            "2  12noon to 3:30pm, 6:30pm to 11:30pm (Mon-Sun)  \n",
            "3  12noon to 3:30pm, 6:30pm to 11:30pm (Mon-Sun)  \n",
            "4  12noon to 3:30pm, 6:30pm to 11:30pm (Mon-Sun)  \n"
          ]
        }
      ],
      "source": [
        "required_columns = ['Cuisines', 'Rating', 'Cost', 'Timings']\n",
        "\n",
        "# Load only the required columns from the CSV file\n",
        "new_merge_df = pd.read_csv('/Users/bunty/Code/MachineLearning/Restaurant_Recommendation/Merge_data.csv', usecols=required_columns)\n",
        "\n",
        "# Specify the desired column order\n",
        "desired_column_order = ['Cuisines', 'Rating', 'Cost', 'Timings']\n",
        "\n",
        "# Reorder the columns\n",
        "new_merge_df = new_merge_df[desired_column_order]\n",
        "\n",
        "# Now, 'df' contains only the specified columns\n",
        "print(new_merge_df.head())"
      ]
    },
    {
      "cell_type": "code",
      "execution_count": 81,
      "metadata": {},
      "outputs": [],
      "source": [
        "new_merge_df.to_csv(\"NewMerge.csv\")"
      ]
    },
    {
      "cell_type": "markdown",
      "metadata": {
        "id": "8hqCd9FnYRsc"
      },
      "source": [
        "# Data Cleaning"
      ]
    },
    {
      "cell_type": "code",
      "execution_count": 57,
      "metadata": {
        "colab": {
          "base_uri": "https://localhost:8080/",
          "height": 196
        },
        "id": "q1O2D4YoYKck",
        "outputId": "bdced803-93ca-4a5b-c383-13a6211e383c"
      },
      "outputs": [
        {
          "data": {
            "text/html": [
              "<div>\n",
              "<style scoped>\n",
              "    .dataframe tbody tr th:only-of-type {\n",
              "        vertical-align: middle;\n",
              "    }\n",
              "\n",
              "    .dataframe tbody tr th {\n",
              "        vertical-align: top;\n",
              "    }\n",
              "\n",
              "    .dataframe thead th {\n",
              "        text-align: right;\n",
              "    }\n",
              "</style>\n",
              "<table border=\"1\" class=\"dataframe\">\n",
              "  <thead>\n",
              "    <tr style=\"text-align: right;\">\n",
              "      <th></th>\n",
              "      <th>Name</th>\n",
              "      <th>Cost</th>\n",
              "      <th>Cuisines</th>\n",
              "      <th>Timings</th>\n",
              "      <th>Review</th>\n",
              "      <th>Rating</th>\n",
              "      <th>Metadata</th>\n",
              "    </tr>\n",
              "  </thead>\n",
              "  <tbody>\n",
              "    <tr>\n",
              "      <th>0</th>\n",
              "      <td>Beyond Flavours</td>\n",
              "      <td>800</td>\n",
              "      <td>Chinese, Continental, Kebab, European, South I...</td>\n",
              "      <td>12noon to 3:30pm, 6:30pm to 11:30pm (Mon-Sun)</td>\n",
              "      <td>The ambience was good, food was quite good . h...</td>\n",
              "      <td>5</td>\n",
              "      <td>1 Review , 2 Followers</td>\n",
              "    </tr>\n",
              "    <tr>\n",
              "      <th>1</th>\n",
              "      <td>Beyond Flavours</td>\n",
              "      <td>800</td>\n",
              "      <td>Chinese, Continental, Kebab, European, South I...</td>\n",
              "      <td>12noon to 3:30pm, 6:30pm to 11:30pm (Mon-Sun)</td>\n",
              "      <td>Ambience is too good for a pleasant evening. S...</td>\n",
              "      <td>5</td>\n",
              "      <td>3 Reviews , 2 Followers</td>\n",
              "    </tr>\n",
              "    <tr>\n",
              "      <th>2</th>\n",
              "      <td>Beyond Flavours</td>\n",
              "      <td>800</td>\n",
              "      <td>Chinese, Continental, Kebab, European, South I...</td>\n",
              "      <td>12noon to 3:30pm, 6:30pm to 11:30pm (Mon-Sun)</td>\n",
              "      <td>A must try.. great food great ambience. Thnx f...</td>\n",
              "      <td>5</td>\n",
              "      <td>2 Reviews , 3 Followers</td>\n",
              "    </tr>\n",
              "  </tbody>\n",
              "</table>\n",
              "</div>"
            ],
            "text/plain": [
              "              Name Cost                                           Cuisines  \\\n",
              "0  Beyond Flavours  800  Chinese, Continental, Kebab, European, South I...   \n",
              "1  Beyond Flavours  800  Chinese, Continental, Kebab, European, South I...   \n",
              "2  Beyond Flavours  800  Chinese, Continental, Kebab, European, South I...   \n",
              "\n",
              "                                         Timings  \\\n",
              "0  12noon to 3:30pm, 6:30pm to 11:30pm (Mon-Sun)   \n",
              "1  12noon to 3:30pm, 6:30pm to 11:30pm (Mon-Sun)   \n",
              "2  12noon to 3:30pm, 6:30pm to 11:30pm (Mon-Sun)   \n",
              "\n",
              "                                              Review Rating  \\\n",
              "0  The ambience was good, food was quite good . h...      5   \n",
              "1  Ambience is too good for a pleasant evening. S...      5   \n",
              "2  A must try.. great food great ambience. Thnx f...      5   \n",
              "\n",
              "                  Metadata  \n",
              "0   1 Review , 2 Followers  \n",
              "1  3 Reviews , 2 Followers  \n",
              "2  2 Reviews , 3 Followers  "
            ]
          },
          "execution_count": 57,
          "metadata": {},
          "output_type": "execute_result"
        }
      ],
      "source": [
        "df.drop(['Reviewer','Time','Pictures','Links','Collections'], axis =1, inplace=True)\n",
        "df.head(3)"
      ]
    },
    {
      "cell_type": "code",
      "execution_count": 58,
      "metadata": {
        "colab": {
          "base_uri": "https://localhost:8080/",
          "height": 543
        },
        "id": "zS1g7AgvYrBz",
        "outputId": "65b88db2-41f7-468e-8920-68b06ff9e2ad"
      },
      "outputs": [
        {
          "name": "stdout",
          "output_type": "stream",
          "text": [
            "<class 'pandas.core.frame.DataFrame'>\n",
            "Int64Index: 10005 entries, 0 to 10004\n",
            "Data columns (total 7 columns):\n",
            " #   Column    Non-Null Count  Dtype  \n",
            "---  ------    --------------  -----  \n",
            " 0   Name      10005 non-null  object \n",
            " 1   Cost      10005 non-null  float64\n",
            " 2   Cuisines  10005 non-null  object \n",
            " 3   Timings   9905 non-null   object \n",
            " 4   Review    9955 non-null   object \n",
            " 5   Rating    9962 non-null   float64\n",
            " 6   Metadata  9962 non-null   object \n",
            "dtypes: float64(2), object(5)\n",
            "memory usage: 625.3+ KB\n"
          ]
        },
        {
          "data": {
            "text/html": [
              "<div>\n",
              "<style scoped>\n",
              "    .dataframe tbody tr th:only-of-type {\n",
              "        vertical-align: middle;\n",
              "    }\n",
              "\n",
              "    .dataframe tbody tr th {\n",
              "        vertical-align: top;\n",
              "    }\n",
              "\n",
              "    .dataframe thead th {\n",
              "        text-align: right;\n",
              "    }\n",
              "</style>\n",
              "<table border=\"1\" class=\"dataframe\">\n",
              "  <thead>\n",
              "    <tr style=\"text-align: right;\">\n",
              "      <th></th>\n",
              "      <th>Name</th>\n",
              "      <th>Cost</th>\n",
              "      <th>Cuisines</th>\n",
              "      <th>Timings</th>\n",
              "      <th>Review</th>\n",
              "      <th>Rating</th>\n",
              "      <th>Metadata</th>\n",
              "    </tr>\n",
              "  </thead>\n",
              "  <tbody>\n",
              "    <tr>\n",
              "      <th>0</th>\n",
              "      <td>Beyond Flavours</td>\n",
              "      <td>800.0</td>\n",
              "      <td>Chinese, Continental, Kebab, European, South I...</td>\n",
              "      <td>12noon to 3:30pm, 6:30pm to 11:30pm (Mon-Sun)</td>\n",
              "      <td>The ambience was good, food was quite good . h...</td>\n",
              "      <td>5.0</td>\n",
              "      <td>1 Review , 2 Followers</td>\n",
              "    </tr>\n",
              "    <tr>\n",
              "      <th>1</th>\n",
              "      <td>Beyond Flavours</td>\n",
              "      <td>800.0</td>\n",
              "      <td>Chinese, Continental, Kebab, European, South I...</td>\n",
              "      <td>12noon to 3:30pm, 6:30pm to 11:30pm (Mon-Sun)</td>\n",
              "      <td>Ambience is too good for a pleasant evening. S...</td>\n",
              "      <td>5.0</td>\n",
              "      <td>3 Reviews , 2 Followers</td>\n",
              "    </tr>\n",
              "    <tr>\n",
              "      <th>2</th>\n",
              "      <td>Beyond Flavours</td>\n",
              "      <td>800.0</td>\n",
              "      <td>Chinese, Continental, Kebab, European, South I...</td>\n",
              "      <td>12noon to 3:30pm, 6:30pm to 11:30pm (Mon-Sun)</td>\n",
              "      <td>A must try.. great food great ambience. Thnx f...</td>\n",
              "      <td>5.0</td>\n",
              "      <td>2 Reviews , 3 Followers</td>\n",
              "    </tr>\n",
              "    <tr>\n",
              "      <th>3</th>\n",
              "      <td>Beyond Flavours</td>\n",
              "      <td>800.0</td>\n",
              "      <td>Chinese, Continental, Kebab, European, South I...</td>\n",
              "      <td>12noon to 3:30pm, 6:30pm to 11:30pm (Mon-Sun)</td>\n",
              "      <td>Soumen das and Arun was a great guy. Only beca...</td>\n",
              "      <td>5.0</td>\n",
              "      <td>1 Review , 1 Follower</td>\n",
              "    </tr>\n",
              "    <tr>\n",
              "      <th>4</th>\n",
              "      <td>Beyond Flavours</td>\n",
              "      <td>800.0</td>\n",
              "      <td>Chinese, Continental, Kebab, European, South I...</td>\n",
              "      <td>12noon to 3:30pm, 6:30pm to 11:30pm (Mon-Sun)</td>\n",
              "      <td>Food is good.we ordered Kodi drumsticks and ba...</td>\n",
              "      <td>5.0</td>\n",
              "      <td>3 Reviews , 2 Followers</td>\n",
              "    </tr>\n",
              "  </tbody>\n",
              "</table>\n",
              "</div>"
            ],
            "text/plain": [
              "              Name   Cost                                           Cuisines  \\\n",
              "0  Beyond Flavours  800.0  Chinese, Continental, Kebab, European, South I...   \n",
              "1  Beyond Flavours  800.0  Chinese, Continental, Kebab, European, South I...   \n",
              "2  Beyond Flavours  800.0  Chinese, Continental, Kebab, European, South I...   \n",
              "3  Beyond Flavours  800.0  Chinese, Continental, Kebab, European, South I...   \n",
              "4  Beyond Flavours  800.0  Chinese, Continental, Kebab, European, South I...   \n",
              "\n",
              "                                         Timings  \\\n",
              "0  12noon to 3:30pm, 6:30pm to 11:30pm (Mon-Sun)   \n",
              "1  12noon to 3:30pm, 6:30pm to 11:30pm (Mon-Sun)   \n",
              "2  12noon to 3:30pm, 6:30pm to 11:30pm (Mon-Sun)   \n",
              "3  12noon to 3:30pm, 6:30pm to 11:30pm (Mon-Sun)   \n",
              "4  12noon to 3:30pm, 6:30pm to 11:30pm (Mon-Sun)   \n",
              "\n",
              "                                              Review  Rating  \\\n",
              "0  The ambience was good, food was quite good . h...     5.0   \n",
              "1  Ambience is too good for a pleasant evening. S...     5.0   \n",
              "2  A must try.. great food great ambience. Thnx f...     5.0   \n",
              "3  Soumen das and Arun was a great guy. Only beca...     5.0   \n",
              "4  Food is good.we ordered Kodi drumsticks and ba...     5.0   \n",
              "\n",
              "                  Metadata  \n",
              "0   1 Review , 2 Followers  \n",
              "1  3 Reviews , 2 Followers  \n",
              "2  2 Reviews , 3 Followers  \n",
              "3    1 Review , 1 Follower  \n",
              "4  3 Reviews , 2 Followers  "
            ]
          },
          "execution_count": 58,
          "metadata": {},
          "output_type": "execute_result"
        }
      ],
      "source": [
        "# changing cost and rating column\n",
        "df['Cost'] = df['Cost'].apply(str).str.replace(',', '').astype(float)\n",
        "df['Rating'] = df['Rating'].str.replace('Like','1').astype(float)\n",
        "df.info()\n",
        "df.head()"
      ]
    },
    {
      "cell_type": "code",
      "execution_count": 59,
      "metadata": {
        "colab": {
          "base_uri": "https://localhost:8080/"
        },
        "id": "yh2rCegw4eBv",
        "outputId": "519d9ae9-3a09-45a5-e87f-4ef62824221a"
      },
      "outputs": [
        {
          "name": "stdout",
          "output_type": "stream",
          "text": [
            "No of data inputs 10005\n",
            "no of NaN values for each column:\n",
            "\n",
            "Name          0\n",
            "Cost          0\n",
            "Cuisines      0\n",
            "Timings     100\n",
            "Review       50\n",
            "Rating       43\n",
            "Metadata     43\n",
            "dtype: int64\n"
          ]
        }
      ],
      "source": [
        "print('No of data inputs',len(df))\n",
        "print('no of NaN values for each column:\\n')\n",
        "print(df.isnull().sum())"
      ]
    },
    {
      "cell_type": "code",
      "execution_count": 60,
      "metadata": {
        "colab": {
          "base_uri": "https://localhost:8080/"
        },
        "id": "-HvGTPnQ8-DB",
        "outputId": "fd6aa1cb-5912-4673-99ca-17839939db61"
      },
      "outputs": [
        {
          "data": {
            "text/plain": [
              "American Wild Wings                       23\n",
              "Arena Eleven                              15\n",
              "IndiBlaze                                  1\n",
              "Angaara Counts 3                           1\n",
              "Wich Please                                1\n",
              "Republic Of Noodles - Lemon Tree Hotel     1\n",
              "Sweet Basket                               1\n",
              "Name: Name, dtype: int64"
            ]
          },
          "execution_count": 60,
          "metadata": {},
          "output_type": "execute_result"
        }
      ],
      "source": [
        "df['Name'][df['Rating'].isnull()== True].value_counts()"
      ]
    },
    {
      "cell_type": "code",
      "execution_count": 61,
      "metadata": {
        "colab": {
          "base_uri": "https://localhost:8080/"
        },
        "id": "yQHoOWA19Xs2",
        "outputId": "78e38646-0151-4cca-99c4-761d0b50bdd8"
      },
      "outputs": [
        {
          "name": "stdout",
          "output_type": "stream",
          "text": [
            "Mean of Rating for American Wild Wings:  3.9740259740259742\n",
            "Mean of Rating for Arena Eleven:  4.117647058823529\n",
            "Overall. Mean of ratings:  3.6007829753061635\n"
          ]
        }
      ],
      "source": [
        "print('Mean of Rating for American Wild Wings: ',df['Rating'][df['Name'] == 'American Wild Wings'].mean())\n",
        "print('Mean of Rating for Arena Eleven: ',df['Rating'][df['Name'] == 'Arena Eleven'].mean())\n",
        "\n",
        "print('Overall. Mean of ratings: ',df['Rating'].mean())\n"
      ]
    },
    {
      "cell_type": "code",
      "execution_count": 62,
      "metadata": {
        "colab": {
          "base_uri": "https://localhost:8080/"
        },
        "id": "4w5yfVNCCiY_",
        "outputId": "0bf853e4-1cd1-427e-d1c5-681b87b07b50"
      },
      "outputs": [
        {
          "data": {
            "text/plain": [
              "Name          0\n",
              "Cost          0\n",
              "Cuisines      0\n",
              "Timings     100\n",
              "Review        0\n",
              "Rating        0\n",
              "Metadata     43\n",
              "dtype: int64"
            ]
          },
          "execution_count": 62,
          "metadata": {},
          "output_type": "execute_result"
        }
      ],
      "source": [
        "df['Rating'].fillna(4,inplace = True)\n",
        "df['Review'] = df['Review'].fillna('-')\n",
        "# changing nan review by - becoz it will not create any problem\n",
        "\n",
        "df.isnull().sum()"
      ]
    },
    {
      "cell_type": "markdown",
      "metadata": {
        "id": "2D0eYDbVDOx9"
      },
      "source": [
        "# Text Preprocessing and Cleaning"
      ]
    },
    {
      "cell_type": "markdown",
      "metadata": {
        "id": "I5sk4m8AEf1X"
      },
      "source": [
        "Using Review and Cuisines feature inorder to create recommender system"
      ]
    },
    {
      "cell_type": "code",
      "execution_count": 63,
      "metadata": {
        "id": "MVZNe58LDM8v"
      },
      "outputs": [],
      "source": [
        "# df[['Review','Cuisines']].head(5)\n",
        "# df.sample(5)"
      ]
    },
    {
      "cell_type": "code",
      "execution_count": 64,
      "metadata": {
        "id": "op4JaiNxEvmT"
      },
      "outputs": [],
      "source": [
        "stemmer = PorterStemmer()"
      ]
    },
    {
      "cell_type": "code",
      "execution_count": 65,
      "metadata": {
        "id": "fCbTmI8fWt4y"
      },
      "outputs": [],
      "source": [
        "#  stemming\n",
        "def stem_word(text):\n",
        "    txt = \" \".join([stemmer.stem(w) for w in text.split()])\n",
        "    return txt"
      ]
    },
    {
      "cell_type": "code",
      "execution_count": 66,
      "metadata": {
        "id": "J6b6hbDlXEC2"
      },
      "outputs": [],
      "source": [
        "df['Review'] = df['Review'].map(lambda x: stem_word(x))\n",
        "df['Cuisines'] = df['Cuisines'].map(lambda x:stem_word(x))"
      ]
    },
    {
      "cell_type": "code",
      "execution_count": 67,
      "metadata": {
        "colab": {
          "base_uri": "https://localhost:8080/",
          "height": 206
        },
        "id": "ZXiz98jcX-8Z",
        "outputId": "c5331a33-bd2c-414f-c0b2-6c133f236e21"
      },
      "outputs": [
        {
          "data": {
            "text/html": [
              "<div>\n",
              "<style scoped>\n",
              "    .dataframe tbody tr th:only-of-type {\n",
              "        vertical-align: middle;\n",
              "    }\n",
              "\n",
              "    .dataframe tbody tr th {\n",
              "        vertical-align: top;\n",
              "    }\n",
              "\n",
              "    .dataframe thead th {\n",
              "        text-align: right;\n",
              "    }\n",
              "</style>\n",
              "<table border=\"1\" class=\"dataframe\">\n",
              "  <thead>\n",
              "    <tr style=\"text-align: right;\">\n",
              "      <th></th>\n",
              "      <th>Review</th>\n",
              "      <th>Cuisines</th>\n",
              "    </tr>\n",
              "  </thead>\n",
              "  <tbody>\n",
              "    <tr>\n",
              "      <th>0</th>\n",
              "      <td>the ambienc wa good, food wa quit good . had s...</td>\n",
              "      <td>chinese, continental, kebab, european, south i...</td>\n",
              "    </tr>\n",
              "    <tr>\n",
              "      <th>1</th>\n",
              "      <td>ambienc is too good for a pleasant evening. se...</td>\n",
              "      <td>chinese, continental, kebab, european, south i...</td>\n",
              "    </tr>\n",
              "    <tr>\n",
              "      <th>2</th>\n",
              "      <td>a must try.. great food great ambience. thnx f...</td>\n",
              "      <td>chinese, continental, kebab, european, south i...</td>\n",
              "    </tr>\n",
              "    <tr>\n",
              "      <th>3</th>\n",
              "      <td>soumen da and arun wa a great guy. onli becaus...</td>\n",
              "      <td>chinese, continental, kebab, european, south i...</td>\n",
              "    </tr>\n",
              "    <tr>\n",
              "      <th>4</th>\n",
              "      <td>food is good.w order kodi drumstick and basket...</td>\n",
              "      <td>chinese, continental, kebab, european, south i...</td>\n",
              "    </tr>\n",
              "  </tbody>\n",
              "</table>\n",
              "</div>"
            ],
            "text/plain": [
              "                                              Review  \\\n",
              "0  the ambienc wa good, food wa quit good . had s...   \n",
              "1  ambienc is too good for a pleasant evening. se...   \n",
              "2  a must try.. great food great ambience. thnx f...   \n",
              "3  soumen da and arun wa a great guy. onli becaus...   \n",
              "4  food is good.w order kodi drumstick and basket...   \n",
              "\n",
              "                                            Cuisines  \n",
              "0  chinese, continental, kebab, european, south i...  \n",
              "1  chinese, continental, kebab, european, south i...  \n",
              "2  chinese, continental, kebab, european, south i...  \n",
              "3  chinese, continental, kebab, european, south i...  \n",
              "4  chinese, continental, kebab, european, south i...  "
            ]
          },
          "execution_count": 67,
          "metadata": {},
          "output_type": "execute_result"
        }
      ],
      "source": [
        "df[['Review','Cuisines']].head(5)"
      ]
    },
    {
      "cell_type": "code",
      "execution_count": 68,
      "metadata": {
        "colab": {
          "base_uri": "https://localhost:8080/",
          "height": 81
        },
        "id": "KMxNprZcGDto",
        "outputId": "fc987f7b-c324-4fdb-c66f-5650c7119220"
      },
      "outputs": [
        {
          "data": {
            "text/html": [
              "<div>\n",
              "<style scoped>\n",
              "    .dataframe tbody tr th:only-of-type {\n",
              "        vertical-align: middle;\n",
              "    }\n",
              "\n",
              "    .dataframe tbody tr th {\n",
              "        vertical-align: top;\n",
              "    }\n",
              "\n",
              "    .dataframe thead th {\n",
              "        text-align: right;\n",
              "    }\n",
              "</style>\n",
              "<table border=\"1\" class=\"dataframe\">\n",
              "  <thead>\n",
              "    <tr style=\"text-align: right;\">\n",
              "      <th></th>\n",
              "      <th>Name</th>\n",
              "      <th>Cost</th>\n",
              "      <th>Cuisines</th>\n",
              "      <th>Timings</th>\n",
              "      <th>Review</th>\n",
              "      <th>Rating</th>\n",
              "      <th>Metadata</th>\n",
              "    </tr>\n",
              "  </thead>\n",
              "  <tbody>\n",
              "    <tr>\n",
              "      <th>8982</th>\n",
              "      <td>Mohammedia Shawarma</td>\n",
              "      <td>150.0</td>\n",
              "      <td>street food, arabian</td>\n",
              "      <td>1 PM to 1 AM</td>\n",
              "      <td>horribl shawarma</td>\n",
              "      <td>1.0</td>\n",
              "      <td>2 Reviews , 45 Followers</td>\n",
              "    </tr>\n",
              "  </tbody>\n",
              "</table>\n",
              "</div>"
            ],
            "text/plain": [
              "                     Name   Cost              Cuisines       Timings  \\\n",
              "8982  Mohammedia Shawarma  150.0  street food, arabian  1 PM to 1 AM   \n",
              "\n",
              "                Review  Rating                  Metadata  \n",
              "8982  horribl shawarma     1.0  2 Reviews , 45 Followers  "
            ]
          },
          "execution_count": 68,
          "metadata": {},
          "output_type": "execute_result"
        }
      ],
      "source": [
        "# df[['Name','Review','Cuisines']].head(5)\n",
        "\n",
        "df.sample()"
      ]
    },
    {
      "cell_type": "code",
      "execution_count": 69,
      "metadata": {
        "id": "fGJ-U3JWYFkW"
      },
      "outputs": [],
      "source": [
        "# Changing data set index by restaurant name\n",
        "df.set_index('Name', inplace=True)\n",
        "\n",
        "# Saving indexes in a series\n",
        "indices = pd.Series(df.index)\n",
        "\n",
        "# Creating tf-idf matrix\n",
        "tfidf = TfidfVectorizer(analyzer='word', ngram_range=(1, 2), min_df=0, stop_words='english')\n",
        "tfidf_matrix = tfidf.fit_transform(df['Review'])\n",
        "\n",
        "# Calculating cosine similarities\n",
        "cosine_similarities = linear_kernel(tfidf_matrix, tfidf_matrix)"
      ]
    },
    {
      "cell_type": "code",
      "execution_count": 70,
      "metadata": {
        "id": "FXS3f6mRFI7r"
      },
      "outputs": [],
      "source": [
        "def recommend(name, cosine_similarities = cosine_similarities):\n",
        "\n",
        "    # Create a list to put top 10 restaurants\n",
        "    recommend_restaurant = []\n",
        "\n",
        "    # Find the index of the hotel entered\n",
        "    idx = indices[indices == name].index[0]\n",
        "\n",
        "    # Find the restaurants with a similar cosine-sim value and order them from bigges number\n",
        "    score_series = pd.Series(cosine_similarities[idx]).sort_values(ascending=False)\n",
        "\n",
        "    # Extract top 30 restaurant indexes with a similar cosine-sim value\n",
        "    top30_indexes = list(score_series.iloc[0:31].index)\n",
        "\n",
        "    # Names of the top 30 restaurants\n",
        "    for each in top30_indexes:\n",
        "        recommend_restaurant.append(list(df.index)[each])\n",
        "\n",
        "    # Creating the new data set to show similar restaurants\n",
        "    df_new = pd.DataFrame(columns=['Cuisines', 'Rating', 'Cost', 'Timings'])\n",
        "\n",
        "    # Create the top 30 similar restaurants with some of their columns\n",
        "    for each in recommend_restaurant:\n",
        "        df_new = df_new.append(pd.DataFrame(df[['Cuisines','Rating', 'Cost', 'Timings']][df.index == each].sample()))\n",
        "\n",
        "    # Drop the same named restaurants and sort only the top 10 by the highest rating\n",
        "    df_new = df_new.drop_duplicates(subset=['Cuisines','Rating', 'Cost'], keep=False)\n",
        "    df_new = df_new.sort_values(by='Rating', ascending=False).head(7)\n",
        "\n",
        "    print('TOP %s RESTAURANTS LIKE %s WITH SIMILAR REVIEWS: ' % (str(len(df_new)), name))\n",
        "\n",
        "    return df_new\n",
        "\n",
        "    # if we say we have to recommend on the basis of food\n",
        "    #  the best north indian restaurant woul be visible by searching north indian"
      ]
    },
    {
      "cell_type": "code",
      "execution_count": 71,
      "metadata": {
        "colab": {
          "base_uri": "https://localhost:8080/",
          "height": 112
        },
        "id": "X6Jz8PNWF3BI",
        "outputId": "c1b365e8-641c-476f-c0a8-2b9cb9c95413"
      },
      "outputs": [
        {
          "data": {
            "text/html": [
              "<div>\n",
              "<style scoped>\n",
              "    .dataframe tbody tr th:only-of-type {\n",
              "        vertical-align: middle;\n",
              "    }\n",
              "\n",
              "    .dataframe tbody tr th {\n",
              "        vertical-align: top;\n",
              "    }\n",
              "\n",
              "    .dataframe thead th {\n",
              "        text-align: right;\n",
              "    }\n",
              "</style>\n",
              "<table border=\"1\" class=\"dataframe\">\n",
              "  <thead>\n",
              "    <tr style=\"text-align: right;\">\n",
              "      <th></th>\n",
              "      <th>Cost</th>\n",
              "      <th>Cuisines</th>\n",
              "      <th>Timings</th>\n",
              "      <th>Review</th>\n",
              "      <th>Rating</th>\n",
              "      <th>Metadata</th>\n",
              "    </tr>\n",
              "    <tr>\n",
              "      <th>Name</th>\n",
              "      <th></th>\n",
              "      <th></th>\n",
              "      <th></th>\n",
              "      <th></th>\n",
              "      <th></th>\n",
              "      <th></th>\n",
              "    </tr>\n",
              "  </thead>\n",
              "  <tbody>\n",
              "    <tr>\n",
              "      <th>Karachi Bakery</th>\n",
              "      <td>500.0</td>\n",
              "      <td>bakery, fast food, dessert</td>\n",
              "      <td>10 AM to 10 PM</td>\n",
              "      <td>well you know what they are famou for - karach...</td>\n",
              "      <td>5.0</td>\n",
              "      <td>207 Reviews , 400 Followers</td>\n",
              "    </tr>\n",
              "  </tbody>\n",
              "</table>\n",
              "</div>"
            ],
            "text/plain": [
              "                 Cost                    Cuisines         Timings  \\\n",
              "Name                                                                \n",
              "Karachi Bakery  500.0  bakery, fast food, dessert  10 AM to 10 PM   \n",
              "\n",
              "                                                           Review  Rating  \\\n",
              "Name                                                                        \n",
              "Karachi Bakery  well you know what they are famou for - karach...     5.0   \n",
              "\n",
              "                                   Metadata  \n",
              "Name                                         \n",
              "Karachi Bakery  207 Reviews , 400 Followers  "
            ]
          },
          "execution_count": 71,
          "metadata": {},
          "output_type": "execute_result"
        }
      ],
      "source": [
        "# HERE IS A RANDOM RESTAURANT. LET'S SEE THE DETAILS ABOUT THIS RESTAURANT:\n",
        "df[df.index == 'Karachi Bakery'].head(1)"
      ]
    },
    {
      "cell_type": "code",
      "execution_count": 72,
      "metadata": {
        "colab": {
          "base_uri": "https://localhost:8080/",
          "height": 287
        },
        "id": "JUpD3zCQF5Fs",
        "outputId": "2d6df3cc-18e6-495c-afea-188102f93a73"
      },
      "outputs": [
        {
          "name": "stdout",
          "output_type": "stream",
          "text": [
            "TOP 7 RESTAURANTS LIKE Labonel WITH SIMILAR REVIEWS: \n"
          ]
        },
        {
          "data": {
            "text/html": [
              "<div>\n",
              "<style scoped>\n",
              "    .dataframe tbody tr th:only-of-type {\n",
              "        vertical-align: middle;\n",
              "    }\n",
              "\n",
              "    .dataframe tbody tr th {\n",
              "        vertical-align: top;\n",
              "    }\n",
              "\n",
              "    .dataframe thead th {\n",
              "        text-align: right;\n",
              "    }\n",
              "</style>\n",
              "<table border=\"1\" class=\"dataframe\">\n",
              "  <thead>\n",
              "    <tr style=\"text-align: right;\">\n",
              "      <th></th>\n",
              "      <th>Cuisines</th>\n",
              "      <th>Rating</th>\n",
              "      <th>Cost</th>\n",
              "      <th>Timings</th>\n",
              "    </tr>\n",
              "  </thead>\n",
              "  <tbody>\n",
              "    <tr>\n",
              "      <th>The Old Madras Baking Company</th>\n",
              "      <td>bakeri</td>\n",
              "      <td>5.0</td>\n",
              "      <td>350.0</td>\n",
              "      <td>7 AM to 11 PM</td>\n",
              "    </tr>\n",
              "    <tr>\n",
              "      <th>Shree Santosh Dhaba Family Restaurant</th>\n",
              "      <td>north indian, chinese, fast food</td>\n",
              "      <td>5.0</td>\n",
              "      <td>500.0</td>\n",
              "      <td>11 AM to 11:30 PM</td>\n",
              "    </tr>\n",
              "    <tr>\n",
              "      <th>Karachi Cafe</th>\n",
              "      <td>cafe, desserts, fast food</td>\n",
              "      <td>5.0</td>\n",
              "      <td>600.0</td>\n",
              "      <td>10 AM to 10 PM</td>\n",
              "    </tr>\n",
              "    <tr>\n",
              "      <th>The Chocolate Room</th>\n",
              "      <td>cafe, dessert</td>\n",
              "      <td>4.0</td>\n",
              "      <td>600.0</td>\n",
              "      <td>10 AM to 12 Midnight</td>\n",
              "    </tr>\n",
              "    <tr>\n",
              "      <th>Labonel</th>\n",
              "      <td>bakery, dessert</td>\n",
              "      <td>2.0</td>\n",
              "      <td>1000.0</td>\n",
              "      <td>11 AM to 8 PM (Mon-Sat), Sun Closed</td>\n",
              "    </tr>\n",
              "    <tr>\n",
              "      <th>The Chocolate Room</th>\n",
              "      <td>cafe, dessert</td>\n",
              "      <td>2.0</td>\n",
              "      <td>600.0</td>\n",
              "      <td>10 AM to 12 Midnight</td>\n",
              "    </tr>\n",
              "    <tr>\n",
              "      <th>Karachi Bakery</th>\n",
              "      <td>bakery, fast food, dessert</td>\n",
              "      <td>1.0</td>\n",
              "      <td>500.0</td>\n",
              "      <td>10 AM to 10 PM</td>\n",
              "    </tr>\n",
              "  </tbody>\n",
              "</table>\n",
              "</div>"
            ],
            "text/plain": [
              "                                                               Cuisines  \\\n",
              "The Old Madras Baking Company                                    bakeri   \n",
              "Shree Santosh Dhaba Family Restaurant  north indian, chinese, fast food   \n",
              "Karachi Cafe                                  cafe, desserts, fast food   \n",
              "The Chocolate Room                                        cafe, dessert   \n",
              "Labonel                                                 bakery, dessert   \n",
              "The Chocolate Room                                        cafe, dessert   \n",
              "Karachi Bakery                               bakery, fast food, dessert   \n",
              "\n",
              "                                       Rating    Cost  \\\n",
              "The Old Madras Baking Company             5.0   350.0   \n",
              "Shree Santosh Dhaba Family Restaurant     5.0   500.0   \n",
              "Karachi Cafe                              5.0   600.0   \n",
              "The Chocolate Room                        4.0   600.0   \n",
              "Labonel                                   2.0  1000.0   \n",
              "The Chocolate Room                        2.0   600.0   \n",
              "Karachi Bakery                            1.0   500.0   \n",
              "\n",
              "                                                                   Timings  \n",
              "The Old Madras Baking Company                                7 AM to 11 PM  \n",
              "Shree Santosh Dhaba Family Restaurant                    11 AM to 11:30 PM  \n",
              "Karachi Cafe                                                10 AM to 10 PM  \n",
              "The Chocolate Room                                    10 AM to 12 Midnight  \n",
              "Labonel                                11 AM to 8 PM (Mon-Sat), Sun Closed  \n",
              "The Chocolate Room                                    10 AM to 12 Midnight  \n",
              "Karachi Bakery                                              10 AM to 10 PM  "
            ]
          },
          "execution_count": 72,
          "metadata": {},
          "output_type": "execute_result"
        }
      ],
      "source": [
        "# LET'S SEE WHAT ARE WE GOING TO BE RECOMMENDED:\n",
        "recommend('Labonel')"
      ]
    },
    {
      "cell_type": "markdown",
      "metadata": {},
      "source": [
        "Saving the Model"
      ]
    },
    {
      "cell_type": "code",
      "execution_count": 73,
      "metadata": {
        "id": "qIq2P-Pxgc1H"
      },
      "outputs": [],
      "source": [
        "import pickle "
      ]
    },
    {
      "cell_type": "code",
      "execution_count": 74,
      "metadata": {},
      "outputs": [],
      "source": [
        "filename = 'trained_model.sav'"
      ]
    },
    {
      "cell_type": "code",
      "execution_count": 75,
      "metadata": {},
      "outputs": [],
      "source": [
        "# Saving the model\n",
        "with open('trained_model.sav', 'wb') as model_file:\n",
        "    pickle.dump(cosine_similarities, model_file)"
      ]
    },
    {
      "cell_type": "code",
      "execution_count": null,
      "metadata": {},
      "outputs": [],
      "source": []
    }
  ],
  "metadata": {
    "colab": {
      "provenance": []
    },
    "kernelspec": {
      "display_name": "Python 3",
      "name": "python3"
    },
    "language_info": {
      "codemirror_mode": {
        "name": "ipython",
        "version": 3
      },
      "file_extension": ".py",
      "mimetype": "text/x-python",
      "name": "python",
      "nbconvert_exporter": "python",
      "pygments_lexer": "ipython3",
      "version": "3.8.8"
    }
  },
  "nbformat": 4,
  "nbformat_minor": 0
}
